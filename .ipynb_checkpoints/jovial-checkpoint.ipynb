{
 "cells": [
  {
   "cell_type": "code",
   "execution_count": null,
   "metadata": {
    "colab": {
     "base_uri": "https://localhost:8080/"
    },
    "id": "1XqsfgfsXibS",
    "outputId": "b7ee1bf3-603c-43c0-f3cb-7b639f3b6b20"
   },
   "outputs": [],
   "source": []
  },
  {
   "cell_type": "code",
   "execution_count": 1,
   "metadata": {
    "id": "Pjg4na2KXcQO"
   },
   "outputs": [
    {
     "name": "stdout",
     "output_type": "stream",
     "text": [
      "INFO:__main__:Building Docker image: your_image_name\n",
      "INFO:__main__:Running Docker image: your_image_name\n",
      "INFO:__main__:Docker container ID: 539ac6dd58c4ca73700dd9ddf1600f07c480a42a562924095499d7e509f57f64\n",
      "INFO:__main__:Attaching to container logs:\n",
      "INFO:__main__:python3: can't open file 'app.py': [Errno 2] No such file or directory\n"
     ]
    }
   ],
   "source": [
    "import docker\n",
    "import logging\n",
    "import sys\n",
    "import inspect\n",
    "\n",
    "# Configure logging\n",
    "logging.basicConfig(stream=sys.stdout, level=logging.INFO)\n",
    "logger = logging.getLogger(__name__)\n",
    "\n",
    "def create_dockerfile(requirements_file=\"requirements.txt\", script_name=\"app.py\", workdir=\"/app\", base_image=\"python:3.8-slim\"):\n",
    "    dockerfile_content=f\"\"\"\n",
    "        FROM {base_image}\n",
    "        WORKDIR {workdir}\n",
    "        COPY . {workdir}\n",
    "        RUN pip install --no-cache-dir -r {requirements_file}\n",
    "        EXPOSE 80\n",
    "        CMD [\"python3\", \"{script_name}\"]\n",
    "    \"\"\"\n",
    "    \n",
    "    with open(\"Dockerfile\", \"w\") as dockerfile:\n",
    "        dockerfile.write(dockerfile_content)\n",
    "\n",
    "def build_and_run_docker_image(image_name):\n",
    "    client = docker.from_env()\n",
    "\n",
    "    # Build the Docker image\n",
    "    logger.info(f\"Building Docker image: {image_name}\")\n",
    "    image, build_logs = client.images.build(path=\".\", tag=image_name)\n",
    "\n",
    "    for log_entry in build_logs:\n",
    "        if 'stream' in log_entry:\n",
    "            log_message = log_entry['stream']\n",
    "            logger.debug(log_message.strip())\n",
    "        elif 'errorDetail' in log_entry:\n",
    "            error_message = log_entry['errorDetail']['message']\n",
    "            logger.error(f\"Build error: {error_message}\")\n",
    "    # Run the Docker image\n",
    "    logger.info(f\"Running Docker image: {image_name}\")\n",
    "    container = client.containers.run(image=image.id, ports={'80/tcp': 4000}, detach=True)\n",
    "\n",
    "    logger.info(f\"Docker container ID: {container.id}\")\n",
    "\n",
    "    # Attach to the container and stream its logs\n",
    "    logger.info(\"Attaching to container logs:\")\n",
    "    for log_line in container.logs(stream=True, follow=True):\n",
    "        logger.info(log_line.decode(\"utf-8\").strip())\n",
    "\n",
    "# Create requirements.txt if not extant\n",
    "def create_requirements_txt():\n",
    "    try:\n",
    "        with open(\"requirements.txt\", \"r\"):\n",
    "            # If the file exists, do nothing\n",
    "            pass\n",
    "    except FileNotFoundError:\n",
    "        # If the file doesn't exist, create it with a default content\n",
    "        with open(\"requirements.txt\", \"w\") as requirements_file:\n",
    "            requirements_file.write(\"numpy==1.18.5\\n\")\n",
    "            requirements_file.write(\"requests==2.24.0\\n\")\n",
    "            # Add other dependencies as needed\n",
    "\n",
    "def get_function_source(func_name):\n",
    "    try:\n",
    "        # Get the function object\n",
    "        func = globals()[func_name]\n",
    "        \n",
    "        # Get the source code\n",
    "        source_code = inspect.getsource(func)\n",
    "        \n",
    "        return source_code\n",
    "    except KeyError:\n",
    "        return f\"Function '{func_name}' not found\"\n",
    "            \n",
    "# Convert function to Python file\n",
    "def function_to_py(func_name):\n",
    "    content = get_function_source(func_name)\n",
    "    file_path = f\"{func_name}.py\"\n",
    "    try:\n",
    "        with open(file_path, 'w') as file:\n",
    "            file.write(content)\n",
    "        print(f\"Content successfully written to {file_path}\")\n",
    "    except Exception as e:\n",
    "        print(f\"Error writing to {file_path}: {str(e)}\")\n",
    "\n",
    "\n",
    "def dockerize_function(func_name):\n",
    "    source = get_function_source(func_name)\n",
    "    create_requirements_txt()\n",
    "    create_dockerfile(script_name=f\"{func_name}.py\")\n",
    "    return \"meow\"\n",
    "\n",
    "\n",
    "def foo()\n",
    "    return \"foo\"\n",
    "\n",
    "\n",
    "if __name__ == \"__main__\":\n",
    "    docker_image_name = \"your_image_name\"\n",
    "\n",
    "    # Configure logging for the script\n",
    "    logging.basicConfig(stream=sys.stdout, level=logging.INFO)\n",
    "    logger = logging.getLogger(__name__)\n",
    "    build_and_run_docker_image(docker_image_name)"
   ]
  },
  {
   "cell_type": "code",
   "execution_count": null,
   "metadata": {
    "colab": {
     "base_uri": "https://localhost:8080/",
     "height": 636
    },
    "id": "_7XaF5FPXuBF",
    "outputId": "5e38f889-6027-499d-bc95-42d253ac7242"
   },
   "outputs": [],
   "source": []
  },
  {
   "cell_type": "code",
   "execution_count": null,
   "metadata": {},
   "outputs": [],
   "source": []
  }
 ],
 "metadata": {
  "colab": {
   "provenance": []
  },
  "kernelspec": {
   "display_name": "Python 3 (ipykernel)",
   "language": "python",
   "name": "python3"
  },
  "language_info": {
   "codemirror_mode": {
    "name": "ipython",
    "version": 3
   },
   "file_extension": ".py",
   "mimetype": "text/x-python",
   "name": "python",
   "nbconvert_exporter": "python",
   "pygments_lexer": "ipython3",
   "version": "3.11.4"
  }
 },
 "nbformat": 4,
 "nbformat_minor": 1
}
